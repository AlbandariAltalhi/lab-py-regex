{
 "cells": [
  {
   "cell_type": "markdown",
   "metadata": {},
   "source": [
    "# LAB | Regular Expressions (Regex) in Python"
   ]
  },
  {
   "cell_type": "markdown",
   "metadata": {},
   "source": [
    "## Overview\n",
    "This exercise notebook will help you practice using regular expressions in Python. Regular expressions are powerful tools for matching patterns in strings, which can be useful for validation, searching, and data manipulation.\n",
    "\n",
    "## Instructions\n",
    "- Complete each exercise by writing the appropriate regex pattern and Python code in the provided space.\n",
    "- Test your code to ensure it works as expected.\n",
    "<!-- - Use the hints provided if you get stuck. -->"
   ]
  },
  {
   "cell_type": "markdown",
   "metadata": {},
   "source": [
    "### Exercise 1: Match Email Addresses\n",
    "Write a regex pattern to match valid email addresses. An email address should contain an '@' symbol and a domain."
   ]
  },
  {
   "cell_type": "code",
   "execution_count": 13,
   "metadata": {},
   "outputs": [
    {
     "name": "stdout",
     "output_type": "stream",
     "text": [
      "example@example.com is a valid email\n",
      "user.name@domain.co is a valid email\n",
      "invalid-email@com is an invalid email\n",
      "hello@world is an invalid email\n"
     ]
    }
   ],
   "source": [
    "import re\n",
    "\n",
    "# Example email \n",
    "emails = [\n",
    "    \"example@example.com\",\n",
    "    \"user.name@domain.co\",\n",
    "    \"invalid-email@com\",\n",
    "    \"hello@world\",\n",
    "]\n",
    "# Regex pattern for valid email addresses\n",
    "pattern = r'^[a-zA-Z0-9._%+-]+@[a-zA-Z0-9.-]+\\.[a-zA-Z]{2,}$'\n",
    "\n",
    "# Test each email address with the regex\n",
    "for email in emails:\n",
    "    if re.match(pattern, email):\n",
    "        print(f\"{email} is a valid email\")\n",
    "    else:\n",
    "        print(f\"{email} is an invalid email\")\n"
   ]
  },
  {
   "cell_type": "markdown",
   "metadata": {},
   "source": [
    "### Exercise 2: Validate Phone Numbers\n",
    "Create a regex pattern to validate phone numbers in the format (123) 456-7890 or 123-456-7890."
   ]
  },
  {
   "cell_type": "code",
   "execution_count": 15,
   "metadata": {},
   "outputs": [
    {
     "name": "stdout",
     "output_type": "stream",
     "text": [
      "(123) 456-7890 is a valid phone number\n",
      "123-456-7890 is a valid phone number\n",
      "(123) 4567890 is an invalid phone number\n",
      "123 456-7890 is a valid phone number\n",
      "123-45-67890 is an invalid phone number\n",
      "123-456-78901 is an invalid phone number\n"
     ]
    }
   ],
   "source": [
    "import re\n",
    "\n",
    "# Example phone numbers \n",
    "phone_numbers = [\n",
    "    \"(123) 456-7890\",  # Valid format 1\n",
    "    \"123-456-7890\",    # Valid format 2\n",
    "    \"(123) 4567890\",   # Invalid format (missing hyphen)\n",
    "    \"123 456-7890\",    # Invalid format (space instead of hyphen)\n",
    "    \"123-45-67890\",    # Invalid format (incorrect number of digits)\n",
    "    \"123-456-78901\",   # Invalid format (extra digit)\n",
    "]\n",
    "# Regex pattern to match phone numbers in the formats (123) 456-7890 or 123-456-7890\n",
    "pattern = r'^\\(?\\d{3}\\)?[\\s\\-]?\\d{3}[\\-]\\d{4}$'\n",
    "\n",
    "\n",
    "# Test each phone number with the regex pattern\n",
    "for phone in phone_numbers:\n",
    "    if re.match(pattern, phone):\n",
    "        print(f\"{phone} is a valid phone number\")\n",
    "    else:\n",
    "        print(f\"{phone} is an invalid phone number\")\n",
    "\n",
    "\n"
   ]
  },
  {
   "cell_type": "markdown",
   "metadata": {},
   "source": [
    "### Exercise 3: Extract Dates\n",
    "Write a regex pattern to extract dates in the format YYYY-MM-DD from a string."
   ]
  },
  {
   "cell_type": "code",
   "execution_count": 19,
   "metadata": {},
   "outputs": [
    {
     "name": "stdout",
     "output_type": "stream",
     "text": [
      "['2025-03-12', '2025-06-15', '2025-09-25']\n"
     ]
    }
   ],
   "source": [
    "import re\n",
    "# Example text containing dates\n",
    "text = \"The events will be held on 2025-03-12, 2025-06-15, and 2025-09-25.\"\n",
    "\n",
    "# Regex pattern to extract dates in the format YYYY-MM-DD\n",
    "pattern = r'\\b\\d{4}-\\d{2}-\\d{2}\\b'\n",
    "\n",
    "# Find all matching dates in the text\n",
    "dates = re.findall(pattern, text)\n",
    "\n",
    "print(dates)\n"
   ]
  },
  {
   "cell_type": "markdown",
   "metadata": {},
   "source": [
    "### Exercise 4: Match URLs\n",
    "Create a regex pattern to match URLs that start with http:// or https://."
   ]
  },
  {
   "cell_type": "code",
   "execution_count": 23,
   "metadata": {},
   "outputs": [
    {
     "name": "stdout",
     "output_type": "stream",
     "text": [
      "There is a valid URL in the text.\n"
     ]
    }
   ],
   "source": [
    "\n",
    "import re\n",
    "\n",
    "# Example text containing URLs\n",
    "text = \"Visit us at http://example.com or https://secure-site.com for more information. Also check http://another-example.org.\"\n",
    "\n",
    "\n",
    "# Regex pattern to match URLs starting with http:// or https://\n",
    "pattern = r'https?://[a-zA-Z0-9.-]+(?:/[a-zA-Z0-9&%._-]*)?'\n",
    "\n",
    "# Check if any URL matches the pattern\n",
    "if re.search(pattern, text):\n",
    "    print(\"There is a valid URL in the text.\")\n",
    "else:\n",
    "    print(\"No valid URLs found in the text.\")"
   ]
  },
  {
   "cell_type": "markdown",
   "metadata": {},
   "source": [
    "### Exercise 5: Find Words Starting with a Specific Letter\n",
    "Write a regex pattern to find all words starting with the letter 'a' in a given string."
   ]
  },
  {
   "cell_type": "code",
   "execution_count": 25,
   "metadata": {},
   "outputs": [
    {
     "name": "stdout",
     "output_type": "stream",
     "text": [
      "['Apple', 'a', 'An', 'apple', 'a', 'away']\n"
     ]
    }
   ],
   "source": [
    "\n",
    "import re\n",
    "\n",
    "# Example text\n",
    "text = \"Apple is a fruit. An apple a day keeps the doctor away.\"\n",
    "\n",
    "\n",
    "# Regex pattern to find words starting with 'a' or 'A'\n",
    "pattern = r'\\b[aA][a-zA-Z]*\\b'\n",
    "\n",
    "# Find all words starting with 'a' or 'A'\n",
    "words = re.findall(pattern, text)\n",
    "\n",
    "print(words)\n"
   ]
  },
  {
   "cell_type": "markdown",
   "metadata": {},
   "source": [
    "### Exercise 6: Match Hexadecimal Colors\n",
    "Create a regex pattern to match hexadecimal color codes (e.g., #FFFFFF)."
   ]
  },
  {
   "cell_type": "code",
   "execution_count": 29,
   "metadata": {},
   "outputs": [
    {
     "name": "stdout",
     "output_type": "stream",
     "text": [
      "There is a valid hexadecimal color code in the text.\n"
     ]
    }
   ],
   "source": [
    "\n",
    "import re\n",
    "\n",
    "# Example text containing color codes\n",
    "text = \"The colors are #FFFFFF, #abc123, and #FF5733.\"\n",
    "\n",
    "\n",
    "# Regex pattern to match hexadecimal color codes (e.g., #FFFFFF)\n",
    "pattern = r'#([0-9A-Fa-f]{6})\\b'\n",
    "\n",
    "# Example text containing color codes\n",
    "text = \"The colors are #FFFFFF, #abc123, and #FF5733.\"\n",
    "\n",
    "# Check if any hexadecimal color code matches the pattern\n",
    "if re.search(pattern, text):\n",
    "    print(\"There is a valid hexadecimal color code in the text.\")\n",
    "else:\n",
    "    print(\"No valid hexadecimal color codes found in the text.\")\n",
    "\n"
   ]
  },
  {
   "cell_type": "markdown",
   "metadata": {},
   "source": [
    "### Exercise 7: Validate Passwords \n",
    "Write a regex pattern to validate passwords that must be at least 8 characters long and contain at least one uppercase letter, one lowercase letter, one digit, and one special character."
   ]
  },
  {
   "cell_type": "code",
   "execution_count": 31,
   "metadata": {},
   "outputs": [
    {
     "name": "stdout",
     "output_type": "stream",
     "text": [
      "'Albandari123!' is a valid password.\n",
      "'pass123' is an invalid password.\n",
      "'P@ssw0rd' is a valid password.\n",
      "'12345678' is an invalid password.\n",
      "'aA1@' is an invalid password.\n"
     ]
    }
   ],
   "source": [
    "import re\n",
    "\n",
    "# Example passwords\n",
    "passwords = [\n",
    "    \"Albandari123!\",  # Valid password\n",
    "    \"pass123\",       # Invalid (too short, lacks uppercase, special character)\n",
    "    \"P@ssw0rd\",      # Valid password\n",
    "    \"12345678\",      # Invalid (no letters, no special character)\n",
    "    \"aA1@\",           # Invalid (too short)\n",
    "]\n",
    "\n",
    "# Regex pattern to validate the password\n",
    "pattern = r'^(?=.*[a-z])(?=.*[A-Z])(?=.*\\d)(?=.*[!@#$%^&*(),.?\":{}|<>])[A-Za-z\\d!@#$%^&*(),.?\":{}|<>]{8,}$'\n",
    "\n",
    "\n",
    "\n",
    "# Check each password with the regex pattern\n",
    "for password in passwords:\n",
    "    if re.match(pattern, password):\n",
    "        print(f\"'{password}' is a valid password.\")\n",
    "    else:\n",
    "        print(f\"'{password}' is an invalid password.\")\n"
   ]
  },
  {
   "cell_type": "markdown",
   "metadata": {},
   "source": [
    "### Exercise 8: Remove Extra Spaces \n",
    "Create a regex pattern that removes extra spaces from a string while keeping single spaces between words."
   ]
  },
  {
   "cell_type": "code",
   "execution_count": 33,
   "metadata": {},
   "outputs": [
    {
     "name": "stdout",
     "output_type": "stream",
     "text": [
      "My name is Albandari Altalhi.\n"
     ]
    }
   ],
   "source": [
    "\n",
    "\n",
    "import re\n",
    "\n",
    "# Example text with extra spaces\n",
    "text = \"My      name    is     Albandari    Altalhi.\"\n",
    "\n",
    "# Regex pattern to replace extra spaces with a single space\n",
    "pattern = r'\\s{2,}'\n",
    "\n",
    "# Replace multiple spaces with a single space\n",
    "cleaned_text = re.sub(pattern, ' ', text)\n",
    "\n",
    "print(cleaned_text)\n"
   ]
  },
  {
   "cell_type": "markdown",
   "metadata": {},
   "source": [
    "### Exercise 9: Match IP Addresses \n",
    "Write a regex pattern to match valid IPv4 addresses."
   ]
  },
  {
   "cell_type": "code",
   "execution_count": 35,
   "metadata": {},
   "outputs": [
    {
     "name": "stdout",
     "output_type": "stream",
     "text": [
      "'192.168.1.1' is a valid IPv4 address.\n",
      "'255.255.255.255' is a valid IPv4 address.\n",
      "'256.256.256.256' is an invalid IPv4 address.\n",
      "'192.168.1.999' is an invalid IPv4 address.\n",
      "'172.16.0.1' is a valid IPv4 address.\n",
      "'1.2.3.4' is a valid IPv4 address.\n"
     ]
    }
   ],
   "source": [
    "\n",
    "\n",
    "import re\n",
    "\n",
    "# Example IP addresses to test\n",
    "ips = [\n",
    "    \"192.168.1.1\",   # Valid\n",
    "    \"255.255.255.255\", # Valid\n",
    "    \"256.256.256.256\", # Invalid\n",
    "    \"192.168.1.999\",  # Invalid\n",
    "    \"172.16.0.1\",     # Valid\n",
    "    \"1.2.3.4\"         # Valid\n",
    "]\n",
    "\n",
    "# Regex pattern to match a valid IPv4 address\n",
    "pattern = r'^((25[0-5]|2[0-4][0-9]|[01]?[0-9][0-9]?)\\.){3}(25[0-5]|2[0-4][0-9]|[01]?[0-9][0-9]?)$'\n",
    "\n",
    "\n",
    "# Check each IP address with the regex pattern\n",
    "for ip in ips:\n",
    "    if re.match(pattern, ip):\n",
    "        print(f\"'{ip}' is a valid IPv4 address.\")\n",
    "    else:\n",
    "        print(f\"'{ip}' is an invalid IPv4 address.\")\n"
   ]
  },
  {
   "cell_type": "markdown",
   "metadata": {},
   "source": [
    "### Exercise 10: Extract Hashtags \n",
    "Create a regex pattern to extract hashtags from a string."
   ]
  },
  {
   "cell_type": "code",
   "execution_count": 37,
   "metadata": {},
   "outputs": [
    {
     "name": "stdout",
     "output_type": "stream",
     "text": [
      "['#Python', '#MachineLearning', '#AI']\n"
     ]
    }
   ],
   "source": [
    "\n",
    "import re\n",
    "\n",
    "# Example text containing hashtags\n",
    "text = \"Here are some popular hashtags: #Python, #MachineLearning, and #AI.\"\n",
    "\n",
    "# Regex pattern to extract hashtags\n",
    "pattern = r'#\\w+'\n",
    "\n",
    "# Find all hashtags in the text\n",
    "hashtags = re.findall(pattern, text)\n",
    "\n",
    "print(hashtags)\n"
   ]
  },
  {
   "cell_type": "markdown",
   "metadata": {},
   "source": [
    "## Bonus Exercises\n"
   ]
  },
  {
   "cell_type": "markdown",
   "metadata": {},
   "source": [
    "\n",
    "### Bonus Exercise 1: Match All Digits \n",
    "Write a regex pattern to match all digits in a given string."
   ]
  },
  {
   "cell_type": "code",
   "execution_count": 39,
   "metadata": {},
   "outputs": [
    {
     "name": "stdout",
     "output_type": "stream",
     "text": [
      "['2025', '12', '30']\n"
     ]
    }
   ],
   "source": [
    "\n",
    "import re\n",
    "\n",
    "# Example text containing digits\n",
    "text = \"The year is 2025 and the time is 12:30 PM.\"\n",
    "\n",
    "# Regex pattern to match all digits\n",
    "pattern = r'\\d+'\n",
    "\n",
    "# Find all digits in the text\n",
    "digits = re.findall(pattern, text)\n",
    "\n",
    "print(digits)\n"
   ]
  },
  {
   "cell_type": "markdown",
   "metadata": {},
   "source": [
    "### Bonus Exercise 2: Validate Credit Card Numbers  \n",
    "Create a regex pattern to validate credit card numbers (16 digits)."
   ]
  },
  {
   "cell_type": "code",
   "execution_count": 41,
   "metadata": {},
   "outputs": [
    {
     "name": "stdout",
     "output_type": "stream",
     "text": [
      "'1234567812345678' is a valid credit card number.\n",
      "'1234 5678 1234 5678' is a valid credit card number.\n",
      "'123456789012345' is an invalid credit card number.\n",
      "'12345678901234567' is an invalid credit card number.\n",
      "'9876543210987654' is a valid credit card number.\n"
     ]
    }
   ],
   "source": [
    "\n",
    "import re\n",
    "\n",
    "# Example credit card numbers\n",
    "credit_cards = [\n",
    "    \"1234567812345678\",  # Valid\n",
    "    \"1234 5678 1234 5678\",  # Invalid (spaces)\n",
    "    \"123456789012345\",  # Invalid (15 digits)\n",
    "    \"12345678901234567\",  # Invalid (17 digits)\n",
    "    \"9876543210987654\"  # Valid\n",
    "]\n",
    "\n",
    "\n",
    "# Regex pattern to validate a credit card number (16 digits)\n",
    "pattern = r'^\\d{16}$'\n",
    "\n",
    "\n",
    "# Check each credit card number with the regex pattern\n",
    "for card in credit_cards:\n",
    "    # Remove spaces for validation\n",
    "    card_clean = card.replace(\" \", \"\")\n",
    "    \n",
    "    if re.match(pattern, card_clean):\n",
    "        print(f\"'{card}' is a valid credit card number.\")\n",
    "    else:\n",
    "        print(f\"'{card}' is an invalid credit card number.\")\n"
   ]
  },
  {
   "cell_type": "markdown",
   "metadata": {},
   "source": [
    "### Bonus Exercise 3: Match Non-Alphanumeric Characters  \n",
    "Write a regex pattern to match non-alphanumeric characters in a string."
   ]
  },
  {
   "cell_type": "code",
   "execution_count": 47,
   "metadata": {},
   "outputs": [
    {
     "name": "stdout",
     "output_type": "stream",
     "text": [
      "[',', ' ', '!', ' ', ' ', ' ', ' ', ':', ' ', '#', ' ', '@', '.']\n"
     ]
    }
   ],
   "source": [
    "import re\n",
    "\n",
    "# Example text containing non-alphanumeric characters\n",
    "text = \"Hello, World! This is a test: #Python @2025.\"\n",
    "\n",
    "# Regex pattern to match non-alphanumeric characters\n",
    "pattern = r'\\W'\n",
    "\n",
    "# Find all non-alphanumeric characters in the text\n",
    "non_alphanumeric_chars = re.findall(pattern, text)\n",
    "\n",
    "# Output the result\n",
    "print(non_alphanumeric_chars)\n"
   ]
  },
  {
   "cell_type": "markdown",
   "metadata": {},
   "source": [
    "### Bonus Exercise 4: Validate Date Format  \n",
    "Create a regex pattern to validate dates in the format DD/MM/YYYY."
   ]
  },
  {
   "cell_type": "code",
   "execution_count": 49,
   "metadata": {},
   "outputs": [
    {
     "name": "stdout",
     "output_type": "stream",
     "text": [
      "'12/05/2025' is a valid date.\n",
      "'31/12/2020' is a valid date.\n",
      "'01/13/2021' is an invalid date.\n",
      "'32/01/2020' is an invalid date.\n",
      "'15/08/99' is an invalid date.\n",
      "'29/02/2024' is a valid date.\n"
     ]
    }
   ],
   "source": [
    "\n",
    "import re\n",
    "\n",
    "\n",
    "# Example dates to test\n",
    "dates = [\n",
    "    \"12/05/2025\",  # Valid\n",
    "    \"31/12/2020\",  # Valid\n",
    "    \"01/13/2021\",  # Invalid (month 13 is invalid)\n",
    "    \"32/01/2020\",  # Invalid (day 32 is invalid)\n",
    "    \"15/08/99\",    # Invalid (year is not 4 digits)\n",
    "    \"29/02/2024\"   # Valid (leap year)\n",
    "]\n",
    "\n",
    "# Regex pattern to validate date format DD/MM/YYYY\n",
    "pattern = r'^(0[1-9]|[12][0-9]|3[01])/(0[1-9]|1[0-2])/\\d{4}$'\n",
    "\n",
    "\n",
    "# Check each date with the regex pattern\n",
    "for date in dates:\n",
    "    if re.match(pattern, date):\n",
    "        print(f\"'{date}' is a valid date.\")\n",
    "    else:\n",
    "        print(f\"'{date}' is an invalid date.\")\n"
   ]
  },
  {
   "cell_type": "markdown",
   "metadata": {},
   "source": [
    "### Bonus Exercise 5: Extract Email Domains  \n",
    "Write a regex pattern to extract domains from email addresses."
   ]
  },
  {
   "cell_type": "code",
   "execution_count": 51,
   "metadata": {},
   "outputs": [
    {
     "name": "stdout",
     "output_type": "stream",
     "text": [
      "Domain of 'example@example.com': example.com\n",
      "Domain of 'user123@domain.co.uk': domain.co.uk\n",
      "Domain of 'test.email@sub.domain.com': sub.domain.com\n",
      "'invalid-email.com' does not contain a valid domain.\n"
     ]
    }
   ],
   "source": [
    "\n",
    "import re\n",
    "\n",
    "# Example email addresses\n",
    "emails = [\n",
    "    \"example@example.com\",\n",
    "    \"user123@domain.co.uk\",\n",
    "    \"test.email@sub.domain.com\",\n",
    "    \"invalid-email.com\"\n",
    "]\n",
    "\n",
    "# Regex pattern to extract domains from email addresses\n",
    "pattern = r'(?<=@)[\\w.-]+'\n",
    "\n",
    "\n",
    "# Extract and print the domains\n",
    "for email in emails:\n",
    "    domain = re.search(pattern, email)\n",
    "    if domain:\n",
    "        print(f\"Domain of '{email}': {domain.group()}\")\n",
    "    else:\n",
    "        print(f\"'{email}' does not contain a valid domain.\")\n"
   ]
  },
  {
   "cell_type": "markdown",
   "metadata": {},
   "source": [
    "### Exercise Completion  \n",
    "Once you have completed all exercises:\n",
    "- Review your solutions.\n",
    "- Ensure your regular expressions and Python code are well-documented with comments explaining your logic.\n",
    "- Save your notebook for submission or further review.\n",
    "\n",
    "Happy coding! Enjoy practicing Regular Expressions in Python!"
   ]
  }
 ],
 "metadata": {
  "kernelspec": {
   "display_name": "Python [conda env:base] *",
   "language": "python",
   "name": "conda-base-py"
  },
  "language_info": {
   "codemirror_mode": {
    "name": "ipython",
    "version": 3
   },
   "file_extension": ".py",
   "mimetype": "text/x-python",
   "name": "python",
   "nbconvert_exporter": "python",
   "pygments_lexer": "ipython3",
   "version": "3.12.2"
  }
 },
 "nbformat": 4,
 "nbformat_minor": 4
}
